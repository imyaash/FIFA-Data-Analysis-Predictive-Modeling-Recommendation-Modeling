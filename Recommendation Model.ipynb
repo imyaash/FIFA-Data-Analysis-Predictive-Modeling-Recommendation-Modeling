{
 "cells": [
  {
   "cell_type": "code",
   "execution_count": null,
   "metadata": {},
   "outputs": [],
   "source": []
  },
  {
   "cell_type": "code",
   "execution_count": 1,
   "metadata": {},
   "outputs": [],
   "source": [
    "import pandas as pd\n",
    "import numpy as np"
   ]
  },
  {
   "cell_type": "code",
   "execution_count": 2,
   "metadata": {},
   "outputs": [],
   "source": [
    "data = pd.read_csv('data.csv')"
   ]
  },
  {
   "cell_type": "code",
   "execution_count": 3,
   "metadata": {},
   "outputs": [],
   "source": [
    "## Dropping unecessaru fields\n",
    "\n",
    "fld_drp = ['ID','Sr.Nos.','Weak Foot','Release Clause','Wage','Photo', 'Nationality', 'Flag',\n",
    "                      'Club Logo', 'International Reputation',\n",
    "                      'Body Type', 'Real Face','Jersey Number', 'Joined', \n",
    "                      'Contract Valid Until','LS', 'ST', 'RS', 'LW', 'LF', 'CF', 'RF', \n",
    "                      'RW','LAM', 'CAM', 'RAM', 'LM', 'LCM', 'CM', 'RCM', 'RM', 'LWB', \n",
    "                      'LDM','CDM', 'RDM', 'RWB', 'LB', 'LCB','CB', 'RCB', 'RB']\n"
   ]
  },
  {
   "cell_type": "code",
   "execution_count": 4,
   "metadata": {},
   "outputs": [],
   "source": [
    "data.drop(fld_drp, axis = 1, inplace = True)"
   ]
  },
  {
   "cell_type": "code",
   "execution_count": 5,
   "metadata": {},
   "outputs": [],
   "source": [
    "from sklearn.preprocessing import StandardScaler\n",
    "from sklearn.neighbors import NearestNeighbors\n",
    "from sklearn.decomposition import PCA"
   ]
  },
  {
   "cell_type": "code",
   "execution_count": 24,
   "metadata": {},
   "outputs": [],
   "source": [
    "attribute = data.iloc[:, 15:43]\n",
    "attribute['Skill Moves'] = data['Skill Moves']\n",
    "workrate = data['Work Rate'].str.get_dummies(sep = '/ ')\n",
    "position = data['Position'].str.get_dummies(sep = ' ')\n",
    "attribute = pd.concat([attribute, workrate, position], axis = 1)\n",
    "df = attribute\n",
    "attribute = attribute.dropna()\n",
    "df['Name'] = data['Name']\n",
    "df['Overall'] = data['Overall']\n",
    "df['Potential'] = data['Potential']\n",
    "df['Age'] = data['Age']\n",
    "df['Value'] = data['Value']\n",
    "df['Position'] = data['Position']\n",
    "df = df.dropna()"
   ]
  },
  {
   "cell_type": "code",
   "execution_count": 25,
   "metadata": {},
   "outputs": [
    {
     "name": "stdout",
     "output_type": "stream",
     "text": [
      "Index(['Finishing', 'HeadingAccuracy', 'ShortPassing', 'Volleys', 'Dribbling',\n",
      "       'Curve', 'FKAccuracy', 'LongPassing', 'BallControl', 'Acceleration',\n",
      "       'SprintSpeed', 'Agility', 'Reactions', 'Balance', 'ShotPower',\n",
      "       'Jumping', 'Stamina', 'Strength', 'LongShots', 'Aggression',\n",
      "       'Interceptions', 'Positioning', 'Vision', 'Penalties', 'Composure',\n",
      "       'Marking', 'StandingTackle', 'SlidingTackle', 'Skill Moves', 'High',\n",
      "       'Low', 'Medium', 'CB', 'CM', 'DM', 'FORWARD', 'GK', 'LB', 'RB',\n",
      "       'WINGER'],\n",
      "      dtype='object')\n"
     ]
    }
   ],
   "source": [
    "print(attribute.columns)"
   ]
  },
  {
   "cell_type": "code",
   "execution_count": 26,
   "metadata": {},
   "outputs": [],
   "source": [
    "scaler = StandardScaler()\n",
    "s = scaler.fit_transform(attribute)"
   ]
  },
  {
   "cell_type": "code",
   "execution_count": 27,
   "metadata": {},
   "outputs": [
    {
     "data": {
      "text/plain": [
       "NearestNeighbors(algorithm='ball_tree', leaf_size=30, metric='minkowski',\n",
       "                 metric_params=None, n_jobs=None, n_neighbors=6, p=2,\n",
       "                 radius=1.0)"
      ]
     },
     "execution_count": 27,
     "metadata": {},
     "output_type": "execute_result"
    }
   ],
   "source": [
    "recommendor = NearestNeighbors(n_neighbors = 6, algorithm = \"ball_tree\")\n",
    "recommendor.fit(s)"
   ]
  },
  {
   "cell_type": "code",
   "execution_count": 28,
   "metadata": {},
   "outputs": [],
   "source": [
    "p_index = recommendor.kneighbors(s)[1]"
   ]
  },
  {
   "cell_type": "code",
   "execution_count": 29,
   "metadata": {},
   "outputs": [
    {
     "data": {
      "text/plain": [
       "array([[    0,     5,    15,    23,   151,   403],\n",
       "       [    1,   124,    87,   315,   461,   518],\n",
       "       [    2,    65,    25,   157,    68,    94],\n",
       "       ...,\n",
       "       [18156, 18015, 17154, 17956, 17994, 17968],\n",
       "       [18157, 17868, 18071, 17493, 17969, 18041],\n",
       "       [18158, 18042, 18086, 18009, 18136, 18051]], dtype=int64)"
      ]
     },
     "execution_count": 29,
     "metadata": {},
     "output_type": "execute_result"
    }
   ],
   "source": [
    "p_index"
   ]
  },
  {
   "cell_type": "code",
   "execution_count": 30,
   "metadata": {},
   "outputs": [],
   "source": [
    "def g_index(x):\n",
    "    return df[df['Name'] == x].index.tolist()[0]\n",
    "\n",
    "def recommend(player):\n",
    "    print(\"Players similar to {} are : \".format(player))\n",
    "    index = g_index(player)\n",
    "    for i in p_index[index][1:]:\n",
    "        print(df.iloc[i]['Name'], \n",
    "              df.iloc[i]['Age'], \n",
    "              df.iloc[i]['Overall'], \n",
    "              df.iloc[i]['Potential'], \n",
    "              df.iloc[i]['Position'], \n",
    "              df.iloc[i]['Value'])"
   ]
  },
  {
   "cell_type": "code",
   "execution_count": 31,
   "metadata": {},
   "outputs": [
    {
     "name": "stdout",
     "output_type": "stream",
     "text": [
      "Players similar to L. Messi are : \n",
      "E. Hazard 27 91 91 FORWARD 93000000.0\n",
      "P. Dybala 24 89 94 FORWARD 89000000.0\n",
      "S. Agüero 30 89 89 FORWARD 64500000.0\n",
      "A. Gómez 30 84 84 FORWARD 30000000.0\n",
      "F. Quagliarella 35 81 81 FORWARD 8000000.0\n"
     ]
    }
   ],
   "source": [
    "recommend('L. Messi')"
   ]
  },
  {
   "cell_type": "code",
   "execution_count": 32,
   "metadata": {},
   "outputs": [
    {
     "name": "stdout",
     "output_type": "stream",
     "text": [
      "Players similar to K. De Bruyne are : \n",
      "D. Alli 22 84 90 CM 42500000.0\n",
      "Roberto Firmino 26 86 87 CM 53000000.0\n",
      "L. Modrić 32 91 91 CM 67000000.0\n",
      "A. Ramsey 27 82 83 CM 25000000.0\n",
      "H. Ziyech 25 83 86 CM 32500000.0\n"
     ]
    }
   ],
   "source": [
    "recommend('K. De Bruyne')"
   ]
  },
  {
   "cell_type": "code",
   "execution_count": 33,
   "metadata": {},
   "outputs": [
    {
     "name": "stdout",
     "output_type": "stream",
     "text": [
      "Players similar to Cristiano Ronaldo are : \n",
      "M. Depay 24 84 89 FORWARD 42000000.0\n",
      "A. Lacazette 27 85 86 FORWARD 45000000.0\n",
      "David Villa 36 82 82 FORWARD 8000000.0\n",
      "T. Vaclík 29 80 81 GK 11500000.0\n",
      "Antunes 31 80 80 LB 9500000.0\n"
     ]
    }
   ],
   "source": [
    "recommend('Cristiano Ronaldo')"
   ]
  },
  {
   "cell_type": "code",
   "execution_count": 34,
   "metadata": {},
   "outputs": [
    {
     "name": "stdout",
     "output_type": "stream",
     "text": [
      "Players similar to Neymar Jr are : \n",
      "Douglas Costa 27 86 86 WINGER 46500000.0\n",
      "K. Mbappé 19 88 95 WINGER 81000000.0\n",
      "Ronaldo Cabrais 26 83 83 WINGER 28000000.0\n",
      "M. Reus 29 86 86 WINGER 43500000.0\n",
      "Y. Brahimi 28 85 85 WINGER 39000000.0\n"
     ]
    }
   ],
   "source": [
    "recommend('Neymar Jr')"
   ]
  },
  {
   "cell_type": "code",
   "execution_count": 35,
   "metadata": {},
   "outputs": [
    {
     "name": "stdout",
     "output_type": "stream",
     "text": [
      "Players similar to De Gea are : \n",
      "J. Pickford 24 83 88 GK 25000000.0\n",
      "K. Schmeichel 31 84 84 GK 19000000.0\n",
      "Ederson 24 86 90 GK 41500000.0\n",
      "M. Neuer 32 89 89 GK 38000000.0\n",
      "J. Guilavogui 27 79 80 DM 12000000.0\n"
     ]
    }
   ],
   "source": [
    "recommend('De Gea')"
   ]
  },
  {
   "cell_type": "code",
   "execution_count": 36,
   "metadata": {},
   "outputs": [
    {
     "name": "stdout",
     "output_type": "stream",
     "text": [
      "Players similar to Cesc Fàbregas are : \n",
      "Borja Valero 33 81 81 CM 11000000.0\n",
      "João Moutinho 31 81 81 CM 15000000.0\n",
      "M. Hamšík 30 87 87 CM 46500000.0\n",
      "I. Gündoğan 27 84 84 CM 32000000.0\n",
      "J. Pastore 29 82 82 CM 21500000.0\n"
     ]
    }
   ],
   "source": [
    "recommend('Cesc Fàbregas')"
   ]
  },
  {
   "cell_type": "code",
   "execution_count": 37,
   "metadata": {},
   "outputs": [
    {
     "name": "stdout",
     "output_type": "stream",
     "text": [
      "Players similar to T. Werner are : \n",
      "K. Laimer 21 75 82 RB 8000000.0\n",
      "I. Opara 29 75 76 CB 6000000.0\n",
      "L. Bailey 20 81 89 WINGER 26500000.0\n",
      "K. Huntelaar 34 77 77 FORWARD 4700000.0\n",
      "M. Pucciarelli 27 74 75 FORWARD 6500000.0\n"
     ]
    }
   ],
   "source": [
    "recommend('T. Werner')"
   ]
  },
  {
   "cell_type": "code",
   "execution_count": null,
   "metadata": {},
   "outputs": [],
   "source": []
  }
 ],
 "metadata": {
  "kernelspec": {
   "display_name": "Python 3",
   "language": "python",
   "name": "python3"
  },
  "language_info": {
   "codemirror_mode": {
    "name": "ipython",
    "version": 3
   },
   "file_extension": ".py",
   "mimetype": "text/x-python",
   "name": "python",
   "nbconvert_exporter": "python",
   "pygments_lexer": "ipython3",
   "version": "3.7.6"
  }
 },
 "nbformat": 4,
 "nbformat_minor": 4
}
